{
 "cells": [
  {
   "cell_type": "markdown",
   "metadata": {
    "deletable": true,
    "editable": true
   },
   "source": [
    "# Exception Handling\n",
    "\n",
    "1. It is cool\n",
    "2. It helps us understand inheritance in classes\n",
    "\n",
    "## The try - except protocol\n",
    "\n",
    "## Example: the multiplication table problem:\n",
    "\n",
    "How many times does each number occur as a product ``i*j``, for integers ``i`` anf ``j`` in ``range(2, n)``?"
   ]
  },
  {
   "cell_type": "code",
   "execution_count": 30,
   "metadata": {
    "collapsed": false,
    "deletable": true,
    "editable": true
   },
   "outputs": [],
   "source": [
    "def multiplicative_frequencies(n):\n",
    "    \"\"\"\n",
    "    Return the dictioanry of multiplicites in an n x n multiplication table.\n",
    "    \n",
    "    Return a dictionay whose keys are the numbers which are \n",
    "    products of two numbers bwteen 2 and n, and the values the the number\n",
    "    of times they occur    \n",
    "    \"\"\"\n",
    "    D = dict()\n",
    "    for i in range(2, n):\n",
    "        for j in range(2, n):\n",
    "            if i*j in D.keys():\n",
    "                D[i*j] += 1\n",
    "            else:\n",
    "                D[i*j] = 1\n",
    "    return D"
   ]
  },
  {
   "cell_type": "code",
   "execution_count": 6,
   "metadata": {
    "collapsed": false,
    "deletable": true,
    "editable": true
   },
   "outputs": [
    {
     "data": {
      "text/plain": [
       "{4: 1,\n",
       " 6: 2,\n",
       " 8: 2,\n",
       " 9: 1,\n",
       " 10: 2,\n",
       " 12: 4,\n",
       " 14: 2,\n",
       " 15: 2,\n",
       " 16: 3,\n",
       " 18: 4,\n",
       " 20: 2,\n",
       " 21: 2,\n",
       " 24: 4,\n",
       " 25: 1,\n",
       " 27: 2,\n",
       " 28: 2,\n",
       " 30: 2,\n",
       " 32: 2,\n",
       " 35: 2,\n",
       " 36: 3,\n",
       " 40: 2,\n",
       " 42: 2,\n",
       " 45: 2,\n",
       " 48: 2,\n",
       " 49: 1,\n",
       " 54: 2,\n",
       " 56: 2,\n",
       " 63: 2,\n",
       " 64: 1,\n",
       " 72: 2,\n",
       " 81: 1}"
      ]
     },
     "execution_count": 6,
     "metadata": {},
     "output_type": "execute_result"
    }
   ],
   "source": [
    "multiplicative_frequencies(10)"
   ]
  },
  {
   "cell_type": "markdown",
   "metadata": {
    "deletable": true,
    "editable": true
   },
   "source": [
    "## Exception-handling with try-except can make this simpler"
   ]
  },
  {
   "cell_type": "code",
   "execution_count": 56,
   "metadata": {
    "collapsed": true,
    "deletable": true,
    "editable": true
   },
   "outputs": [],
   "source": [
    "def multiplicative_frequencies(n):\n",
    "    \"\"\"\n",
    "    Return the dictioanry of multiplicites in an n x n multiplication table.\n",
    "    \n",
    "    Return a dictionay whose keys are the numbers which are \n",
    "    products of two numbers bwteen 2 and n, and the values the the number\n",
    "    of times they occur    \n",
    "    \"\"\"\n",
    "    D = dict()\n",
    "    for i in range(2, n):\n",
    "        for j in range(2, n):\n",
    "            try:\n",
    "                D[i*j] += 1\n",
    "            except KeyError:\n",
    "                D[i*j] = 1\n",
    "    return D"
   ]
  },
  {
   "cell_type": "code",
   "execution_count": 57,
   "metadata": {
    "collapsed": false,
    "deletable": true,
    "editable": true
   },
   "outputs": [
    {
     "data": {
      "text/plain": [
       "{4: 1,\n",
       " 6: 2,\n",
       " 8: 2,\n",
       " 9: 1,\n",
       " 10: 2,\n",
       " 12: 4,\n",
       " 14: 2,\n",
       " 15: 2,\n",
       " 16: 3,\n",
       " 18: 4,\n",
       " 20: 2,\n",
       " 21: 2,\n",
       " 24: 4,\n",
       " 25: 1,\n",
       " 27: 2,\n",
       " 28: 2,\n",
       " 30: 2,\n",
       " 32: 2,\n",
       " 35: 2,\n",
       " 36: 3,\n",
       " 40: 2,\n",
       " 42: 2,\n",
       " 45: 2,\n",
       " 48: 2,\n",
       " 49: 1,\n",
       " 54: 2,\n",
       " 56: 2,\n",
       " 63: 2,\n",
       " 64: 1,\n",
       " 72: 2,\n",
       " 81: 1}"
      ]
     },
     "execution_count": 57,
     "metadata": {},
     "output_type": "execute_result"
    }
   ],
   "source": [
    "multiplicative_frequencies(10)"
   ]
  },
  {
   "cell_type": "code",
   "execution_count": 28,
   "metadata": {
    "collapsed": true,
    "deletable": true,
    "editable": true
   },
   "outputs": [],
   "source": [
    "def exceptional_example(a, b):\n",
    "    try:\n",
    "        return a/b\n",
    "    except Exception:\n",
    "        print \"You tried dividing by zero\"\n",
    "    except TypeError:\n",
    "        print \"Division does not make sense for %s and %s\"%(a, b)"
   ]
  },
  {
   "cell_type": "markdown",
   "metadata": {
    "deletable": true,
    "editable": true
   },
   "source": [
    "## You can raise your own exceptions using the ``raise`` command"
   ]
  },
  {
   "cell_type": "code",
   "execution_count": 59,
   "metadata": {
    "collapsed": true,
    "deletable": true,
    "editable": true
   },
   "outputs": [],
   "source": [
    "from math import sqrt, atan, pi\n",
    "def polar_coordinates(a, b):\n",
    "    \"\"\"\n",
    "    Return the polar coordinate of point with Cartesian coordinates ``(a, b)``\n",
    "    \"\"\"\n",
    "    r = sqrt(a**2 + b**2)\n",
    "    try:\n",
    "        theta = atan(b/a)\n",
    "    except ZeroDivisionError:\n",
    "        if b != 0:\n",
    "            theta = pi/2\n",
    "        else:\n",
    "            raise ValueError(\"The origin does not have well-defined polar coordinates\")\n",
    "    return (r, theta)"
   ]
  },
  {
   "cell_type": "code",
   "execution_count": 48,
   "metadata": {
    "collapsed": false,
    "deletable": true,
    "editable": true
   },
   "outputs": [
    {
     "data": {
      "text/plain": [
       "(1.4142135623730951, 0.7853981633974483)"
      ]
     },
     "execution_count": 48,
     "metadata": {},
     "output_type": "execute_result"
    }
   ],
   "source": [
    "polar_coordinates(1,1)"
   ]
  },
  {
   "cell_type": "code",
   "execution_count": 49,
   "metadata": {
    "collapsed": false,
    "deletable": true,
    "editable": true
   },
   "outputs": [
    {
     "data": {
      "text/plain": [
       "(1.0, 1.5707963267948966)"
      ]
     },
     "execution_count": 49,
     "metadata": {},
     "output_type": "execute_result"
    }
   ],
   "source": [
    "polar_coordinates(0, 1)"
   ]
  },
  {
   "cell_type": "code",
   "execution_count": 50,
   "metadata": {
    "collapsed": false,
    "deletable": true,
    "editable": true
   },
   "outputs": [
    {
     "ename": "ValueError",
     "evalue": "The origin does not have well-defined polar coordinates",
     "output_type": "error",
     "traceback": [
      "\u001b[0;31m---------------------------------------------------------------------------\u001b[0m",
      "\u001b[0;31mValueError\u001b[0m                                Traceback (most recent call last)",
      "\u001b[0;32m<ipython-input-50-d4051ba6587c>\u001b[0m in \u001b[0;36m<module>\u001b[0;34m()\u001b[0m\n\u001b[0;32m----> 1\u001b[0;31m \u001b[0mpolar_coordinates\u001b[0m\u001b[0;34m(\u001b[0m\u001b[0;36m0\u001b[0m\u001b[0;34m,\u001b[0m \u001b[0;36m0\u001b[0m\u001b[0;34m)\u001b[0m\u001b[0;34m\u001b[0m\u001b[0m\n\u001b[0m",
      "\u001b[0;32m<ipython-input-47-4bfad89bbc35>\u001b[0m in \u001b[0;36mpolar_coordinates\u001b[0;34m(a, b)\u001b[0m\n\u001b[1;32m     11\u001b[0m             \u001b[0mtheta\u001b[0m \u001b[0;34m=\u001b[0m \u001b[0mpi\u001b[0m\u001b[0;34m/\u001b[0m\u001b[0;36m2\u001b[0m\u001b[0;34m\u001b[0m\u001b[0m\n\u001b[1;32m     12\u001b[0m         \u001b[0;32melse\u001b[0m\u001b[0;34m:\u001b[0m\u001b[0;34m\u001b[0m\u001b[0m\n\u001b[0;32m---> 13\u001b[0;31m             \u001b[0;32mraise\u001b[0m \u001b[0mValueError\u001b[0m\u001b[0;34m(\u001b[0m\u001b[0;34m\"The origin does not have well-defined polar coordinates\"\u001b[0m\u001b[0;34m)\u001b[0m\u001b[0;34m\u001b[0m\u001b[0m\n\u001b[0m\u001b[1;32m     14\u001b[0m     \u001b[0;32mreturn\u001b[0m \u001b[0;34m(\u001b[0m\u001b[0mr\u001b[0m\u001b[0;34m,\u001b[0m \u001b[0mtheta\u001b[0m\u001b[0;34m)\u001b[0m\u001b[0;34m\u001b[0m\u001b[0m\n",
      "\u001b[0;31mValueError\u001b[0m: The origin does not have well-defined polar coordinates"
     ]
    }
   ],
   "source": [
    "polar_coordinates(0, 0)"
   ]
  },
  {
   "cell_type": "markdown",
   "metadata": {
    "deletable": true,
    "editable": true
   },
   "source": [
    "## You can even define your own new types of Exceptions\n",
    "An exception is a class that inherits from ``BaseError``"
   ]
  },
  {
   "cell_type": "code",
   "execution_count": 60,
   "metadata": {
    "collapsed": true,
    "deletable": true,
    "editable": true
   },
   "outputs": [],
   "source": [
    "class OriginError(ValueError):\n",
    "    \"\"\"\n",
    "    Define the class of origin error.\n",
    "    \n",
    "    This exception is raised when the polar coordinates of the origin are computed.\n",
    "    \"\"\"\n",
    "    pass"
   ]
  },
  {
   "cell_type": "markdown",
   "metadata": {
    "deletable": true,
    "editable": true
   },
   "source": [
    "## The above has defined a new type of exception\n",
    "\n",
    "This can be used in our code:"
   ]
  },
  {
   "cell_type": "code",
   "execution_count": 61,
   "metadata": {
    "collapsed": true,
    "deletable": true,
    "editable": true
   },
   "outputs": [],
   "source": [
    "def polar_coordinates(a, b):\n",
    "    \"\"\"\n",
    "    Return the polar coordinate of point with Cartesian coordinates ``(a, b)``\n",
    "    \"\"\"\n",
    "    r = sqrt(a**2 + b**2)\n",
    "    try:\n",
    "        theta = atan(b/a)\n",
    "    except ZeroDivisionError:\n",
    "        if b != 0:\n",
    "            theta = pi/2\n",
    "        else:\n",
    "            raise OriginError(\"The origin does not have well-defined polar coordinates\")\n",
    "    return (r, theta)"
   ]
  },
  {
   "cell_type": "markdown",
   "metadata": {
    "deletable": true,
    "editable": true
   },
   "source": [
    "This can now we used in a ``try-except`` protocol"
   ]
  },
  {
   "cell_type": "code",
   "execution_count": 62,
   "metadata": {
    "collapsed": false,
    "deletable": true,
    "editable": true
   },
   "outputs": [
    {
     "name": "stdout",
     "output_type": "stream",
     "text": [
      "You raised an origin error\n"
     ]
    }
   ],
   "source": [
    "try:\n",
    "    polar_coordinates(0, 0)\n",
    "except OriginError:\n",
    "    print \"You raised an origin error\""
   ]
  },
  {
   "cell_type": "markdown",
   "metadata": {
    "collapsed": true,
    "deletable": true,
    "editable": true
   },
   "source": [
    "To go deeper into this topic, please refer to http://python-textbok.readthedocs.io/en/1.0/Errors_and_Exceptions.html"
   ]
  },
  {
   "cell_type": "code",
   "execution_count": null,
   "metadata": {
    "collapsed": true
   },
   "outputs": [],
   "source": []
  }
 ],
 "metadata": {
  "kernelspec": {
   "display_name": "Python 2",
   "language": "python",
   "name": "python2"
  },
  "language_info": {
   "codemirror_mode": {
    "name": "ipython",
    "version": 2
   },
   "file_extension": ".py",
   "mimetype": "text/x-python",
   "name": "python",
   "nbconvert_exporter": "python",
   "pygments_lexer": "ipython2",
   "version": "2.7.13"
  }
 },
 "nbformat": 4,
 "nbformat_minor": 2
}
